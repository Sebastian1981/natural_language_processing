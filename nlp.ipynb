{
  "cells": [
    {
      "cell_type": "markdown",
      "metadata": {},
      "source": [
        "# Connect to Azure"
      ]
    },
    {
      "cell_type": "markdown",
      "metadata": {},
      "source": [
        "## Import the azureml-core package and checking the version of the SDK that is installed"
      ]
    },
    {
      "cell_type": "code",
      "execution_count": 1,
      "metadata": {
        "gather": {
          "logged": 1659101628426
        }
      },
      "outputs": [
        {
          "name": "stdout",
          "output_type": "stream",
          "text": [
            "Ready to use Azure ML 1.41.0\n"
          ]
        }
      ],
      "source": [
        "import azureml.core\n",
        "print(\"Ready to use Azure ML\", azureml.core.VERSION)\n",
        "#test"
      ]
    },
    {
      "cell_type": "markdown",
      "metadata": {},
      "source": [
        "## Connect to Workspace"
      ]
    },
    {
      "cell_type": "code",
      "execution_count": 2,
      "metadata": {
        "gather": {
          "logged": 1659101631091
        }
      },
      "outputs": [
        {
          "name": "stdout",
          "output_type": "stream",
          "text": [
            "sd_ml loaded\n"
          ]
        }
      ],
      "source": [
        "from azureml.core import Workspace\n",
        "ws = Workspace.from_config()\n",
        "print(ws.name, \"loaded\")"
      ]
    },
    {
      "cell_type": "markdown",
      "metadata": {},
      "source": [
        "## View ressources in WS"
      ]
    },
    {
      "cell_type": "code",
      "execution_count": 3,
      "metadata": {
        "gather": {
          "logged": 1659101635094
        }
      },
      "outputs": [
        {
          "name": "stdout",
          "output_type": "stream",
          "text": [
            "Compute Resources:\n",
            "\t myCluster : AmlCompute\n",
            "\t myComputer : ComputeInstance\n"
          ]
        }
      ],
      "source": [
        "print(\"Compute Resources:\")\n",
        "for compute_name in ws.compute_targets:\n",
        "    compute = ws.compute_targets[compute_name]\n",
        "    print(\"\\t\", compute.name, ':', compute.type)"
      ]
    },
    {
      "cell_type": "markdown",
      "metadata": {},
      "source": [
        "# Lets write some regular expresssions"
      ]
    },
    {
      "cell_type": "code",
      "execution_count": 4,
      "metadata": {},
      "outputs": [],
      "source": [
        "import re\n",
        "\n",
        "class Regex:\n",
        "  def __init__(self, my_string:str):\n",
        "    self.string = my_string\n",
        "\n",
        "  def find_pattern(self, pattern):\n",
        "    print(re.findall(pattern, self.string))\n",
        "\n",
        "  def match_sentence_ending(self):\n",
        "    print(re.split(r\"[..?!]\", self.string))\n",
        "\n",
        "  def find_capital_words(self):\n",
        "    print(re.findall(r\"[A-Z]\\w+\", self.string))\n",
        "\n",
        "  def split_on_spaces(self):\n",
        "    print(re.split(r\"\\s+\", self.string))\n",
        "\n",
        "  def find_digits(self):\n",
        "    print(re.findall(r\"\\d+\", self.string))"
      ]
    },
    {
      "cell_type": "code",
      "execution_count": 5,
      "metadata": {
        "gather": {
          "logged": 1659101576886
        }
      },
      "outputs": [
        {
          "name": "stdout",
          "output_type": "stream",
          "text": [
            "['Let', 's', 'write', 'RegEx']\n"
          ]
        }
      ],
      "source": [
        "regex = Regex(my_string=\"Let's write RegEx!\")\n",
        "PATTERN = r\"\\w+\"\n",
        "#PATTERN = r\"[a-z]\"\n",
        "#PATTERN = r\"\\w\"\n",
        "regex.find_pattern(PATTERN)"
      ]
    },
    {
      "cell_type": "code",
      "execution_count": 6,
      "metadata": {},
      "outputs": [
        {
          "name": "stdout",
          "output_type": "stream",
          "text": [
            "[\"Let's write RegEx\", \"  Won't that be fun\", '  I sure think so', '  Can you find 4 sentences', '  Or perhaps, all 19 words', '']\n",
            "['Let', 'RegEx', 'Won', 'Can', 'Or']\n",
            "[\"Let's\", 'write', 'RegEx!', \"Won't\", 'that', 'be', 'fun?', 'I', 'sure', 'think', 'so.', 'Can', 'you', 'find', '4', 'sentences?', 'Or', 'perhaps,', 'all', '19', 'words?']\n",
            "['4', '19']\n"
          ]
        }
      ],
      "source": [
        "regex = Regex(\"Let's write RegEx!  Won't that be fun?  I sure think so.  Can you find 4 sentences?  Or perhaps, all 19 words?\")\n",
        "regex.match_sentence_ending()\n",
        "regex.find_capital_words()\n",
        "regex.split_on_spaces()\n",
        "regex.find_digits()"
      ]
    },
    {
      "cell_type": "markdown",
      "metadata": {},
      "source": [
        "# Lets tokenize some words"
      ]
    },
    {
      "cell_type": "code",
      "execution_count": 7,
      "metadata": {},
      "outputs": [
        {
          "name": "stderr",
          "output_type": "stream",
          "text": [
            "[nltk_data] Downloading package punkt to /home/azureuser/nltk_data...\n",
            "[nltk_data]   Package punkt is already up-to-date!\n"
          ]
        }
      ],
      "source": [
        "import nltk\n",
        "nltk.download('punkt')\n",
        "\n",
        "# Import modules\n",
        "import re\n",
        "from nltk.tokenize import sent_tokenize, word_tokenize"
      ]
    },
    {
      "cell_type": "code",
      "execution_count": 8,
      "metadata": {},
      "outputs": [],
      "source": [
        "class Tokenize:\n",
        "  def __init__(self, path, str_length=200):\n",
        "    self.path = path\n",
        "    f = open(self.path, \"r\")\n",
        "    self.string = f.read(str_length)\n",
        "\n",
        "  def split_into_sentences(self):\n",
        "    sentences = sent_tokenize(self.string)\n",
        "    return sentences\n",
        "\n",
        "  def split_into_words(self):\n",
        "    words = word_tokenize(self.string)\n",
        "    return words\n",
        "\n",
        "  def get_unique_tokens(self):\n",
        "    unique_tokens = set(word_tokenize(self.string))\n",
        "    return unique_tokens\n",
        "\n",
        "  def locate_word(self, word):\n",
        "    \"\"\" Locate indices of word in string\"\"\"\n",
        "    match = re.search(\"Editor\", self.string)\n",
        "    return match.span()\n",
        "\n",
        "  def match_digits(self):\n",
        "    return re.findall(('\\d+'), self.string)\n",
        "\n",
        "  def match_words(self):\n",
        "    return re.findall(('\\w+'), self.string)  \n",
        "\n",
        "  def match_digits_and_words(self):\n",
        "    return re.findall(('(\\d+|\\w+)'), self.string)  "
      ]
    },
    {
      "cell_type": "code",
      "execution_count": 9,
      "metadata": {},
      "outputs": [
        {
          "data": {
            "text/plain": [
              "\"MARCH # All Stories New and Complete Publisher Editor IF is published bi-monthly by Quinn Publishing Company, Inc., Kingston, New York. Volume #, No. #. Copyright # by Quinn Publishing Company, Inc. Application for Entry' as Second Class matter at Post Office, Buffalo, New York, pending. Subscription # for # issues in U.S. and Possessions: Canada # for # issues; elsewhere #. Aiiow four weeks for change of address. All stories appearing in this magazine are fiction. Any similarity to actual perso\""
            ]
          },
          "execution_count": 9,
          "metadata": {},
          "output_type": "execute_result"
        }
      ],
      "source": [
        "tokenize = Tokenize(path=\"internet_archive_scifi_v3.txt\", str_length=500)\n",
        "tokenize.string"
      ]
    },
    {
      "cell_type": "code",
      "execution_count": 10,
      "metadata": {},
      "outputs": [
        {
          "data": {
            "text/plain": [
              "['MARCH # All Stories New and Complete Publisher Editor IF is published bi-monthly by Quinn Publishing Company, Inc., Kingston, New York.',\n",
              " 'Volume #, No.',\n",
              " '#.',\n",
              " 'Copyright # by Quinn Publishing Company, Inc.',\n",
              " \"Application for Entry' as Second Class matter at Post Office, Buffalo, New York, pending.\",\n",
              " 'Subscription # for # issues in U.S. and Possessions: Canada # for # issues; elsewhere #.',\n",
              " 'Aiiow four weeks for change of address.',\n",
              " 'All stories appearing in this magazine are fiction.',\n",
              " 'Any similarity to actual perso']"
            ]
          },
          "execution_count": 10,
          "metadata": {},
          "output_type": "execute_result"
        }
      ],
      "source": [
        "tokenize = Tokenize(path=\"internet_archive_scifi_v3.txt\", str_length=500)\n",
        "sentences = tokenize.split_into_sentences()\n",
        "sentences"
      ]
    },
    {
      "cell_type": "code",
      "execution_count": 11,
      "metadata": {},
      "outputs": [
        {
          "data": {
            "text/plain": [
              "['Copyright', '#', 'by', 'Quinn', 'Publishing', 'Company', ',', 'Inc', '.']"
            ]
          },
          "execution_count": 11,
          "metadata": {},
          "output_type": "execute_result"
        }
      ],
      "source": [
        "# Use word_tokenize to tokenize the fourth sentence: tokenized_sent\n",
        "word_tokenize(sentences[3])"
      ]
    },
    {
      "cell_type": "code",
      "execution_count": 12,
      "metadata": {},
      "outputs": [
        {
          "data": {
            "text/plain": [
              "{'#',\n",
              " 'All',\n",
              " 'Complete',\n",
              " 'Editor',\n",
              " 'IF',\n",
              " 'MARCH',\n",
              " 'New',\n",
              " 'Publisher',\n",
              " 'Publishing',\n",
              " 'Quinn',\n",
              " 'Stories',\n",
              " 'and',\n",
              " 'bi-monthly',\n",
              " 'by',\n",
              " 'is',\n",
              " 'published'}"
            ]
          },
          "execution_count": 12,
          "metadata": {},
          "output_type": "execute_result"
        }
      ],
      "source": [
        "tokenize = Tokenize(path=\"internet_archive_scifi_v3.txt\", str_length=100)\n",
        "tokenize.get_unique_tokens()"
      ]
    },
    {
      "cell_type": "code",
      "execution_count": 13,
      "metadata": {},
      "outputs": [
        {
          "data": {
            "text/plain": [
              "(47, 53)"
            ]
          },
          "execution_count": 13,
          "metadata": {},
          "output_type": "execute_result"
        }
      ],
      "source": [
        "tokenize = Tokenize(path=\"internet_archive_scifi_v3.txt\", str_length=100)\n",
        "indices = tokenize.locate_word(\"Editor\")\n",
        "indices"
      ]
    },
    {
      "cell_type": "code",
      "execution_count": 14,
      "metadata": {},
      "outputs": [
        {
          "data": {
            "text/plain": [
              "[]"
            ]
          },
          "execution_count": 14,
          "metadata": {},
          "output_type": "execute_result"
        }
      ],
      "source": [
        "tokenize = Tokenize(path=\"internet_archive_scifi_v3.txt\", str_length=1000)\n",
        "tokenize.match_digits()"
      ]
    },
    {
      "cell_type": "code",
      "execution_count": 15,
      "metadata": {},
      "outputs": [
        {
          "data": {
            "text/plain": [
              "['MARCH',\n",
              " 'All',\n",
              " 'Stories',\n",
              " 'New',\n",
              " 'and',\n",
              " 'Complete',\n",
              " 'Publisher',\n",
              " 'Editor',\n",
              " 'IF',\n",
              " 'is',\n",
              " 'published',\n",
              " 'bi',\n",
              " 'monthly',\n",
              " 'by',\n",
              " 'Quinn',\n",
              " 'Publishing']"
            ]
          },
          "execution_count": 15,
          "metadata": {},
          "output_type": "execute_result"
        }
      ],
      "source": [
        "tokenize = Tokenize(path=\"internet_archive_scifi_v3.txt\", str_length=100)\n",
        "tokenize.match_words()"
      ]
    },
    {
      "cell_type": "markdown",
      "metadata": {},
      "source": [
        "## Visualize Word Lengths"
      ]
    },
    {
      "cell_type": "code",
      "execution_count": 16,
      "metadata": {},
      "outputs": [
        {
          "data": {
            "image/png": "[encoded data removed]",
            "text/plain": [
              "<Figure size 640x480 with 1 Axes>"
            ]
          },
          "metadata": {},
          "output_type": "display_data"
        }
      ],
      "source": [
        "from matplotlib import pyplot as plt\n",
        "tokenize = Tokenize(path=\"internet_archive_scifi_v3.txt\", str_length=10000)\n",
        "words = tokenize.split_into_words()\n",
        "word_lengths = [len(w) for w in words]\n",
        "plt.hist(word_lengths)\n",
        "plt.title('Histogram of word length')\n",
        "plt.xlabel('number of characters')\n",
        "plt.ylabel('frequency')\n",
        "plt.show()"
      ]
    },
    {
      "cell_type": "markdown",
      "metadata": {},
      "source": [
        "## Visualize Sentence Lengths"
      ]
    },
    {
      "cell_type": "code",
      "execution_count": 17,
      "metadata": {},
      "outputs": [
        {
          "data": {
            "image/png": "[encoded data removed]",
            "text/plain": [
              "<Figure size 640x480 with 1 Axes>"
            ]
          },
          "metadata": {},
          "output_type": "display_data"
        }
      ],
      "source": [
        "tokenize = Tokenize(path=\"internet_archive_scifi_v3.txt\", str_length=10000)\n",
        "sentences = tokenize.split_into_sentences()\n",
        "sentence_lengths = [len(s) for s in sentences]\n",
        "plt.hist(sentence_lengths)\n",
        "plt.title('Histogram of sentence length')\n",
        "plt.xlabel('number of characters')\n",
        "plt.ylabel('frequency')\n",
        "plt.show()"
      ]
    },
    {
      "cell_type": "markdown",
      "metadata": {},
      "source": [
        "# Create simple bag-of-words model"
      ]
    },
    {
      "cell_type": "code",
      "execution_count": 52,
      "metadata": {},
      "outputs": [
        {
          "name": "stderr",
          "output_type": "stream",
          "text": [
            "[nltk_data] Downloading package stopwords to\n",
            "[nltk_data]     /home/azureuser/nltk_data...\n",
            "[nltk_data]   Package stopwords is already up-to-date!\n",
            "[nltk_data] Downloading package wordnet to\n",
            "[nltk_data]     /home/azureuser/nltk_data...\n",
            "[nltk_data]   Package wordnet is already up-to-date!\n",
            "[nltk_data] Downloading package omw-1.4 to\n",
            "[nltk_data]     /home/azureuser/nltk_data...\n",
            "[nltk_data]   Package omw-1.4 is already up-to-date!\n"
          ]
        }
      ],
      "source": [
        "from collections import Counter\n",
        "from nltk.stem import WordNetLemmatizer\n",
        "from nltk.corpus import stopwords\n",
        "nltk.download('stopwords')\n",
        "nltk.download('wordnet')\n",
        "nltk.download('omw-1.4')\n",
        "\n",
        "class BagOfWords(Tokenize):\n",
        "  def __init__(self, path, str_length):\n",
        "    super().__init__(path, str_length)\n",
        "\n",
        "  def lower_case(self, tokens):\n",
        "    # Convert the tokens into lowercase: lower_tokens\n",
        "    tokens = [token.lower() for token in tokens]\n",
        "    return tokens\n",
        "\n",
        "  def get_alphabetic_tokens(self, tokens):\n",
        "    # use only alphabet tokens\n",
        "    tokens = [token for token in tokens if token.isalpha()]\n",
        "    return tokens\n",
        "\n",
        "  def remove_stopwords(self, tokens):\n",
        "    # remove stopwords\n",
        "    tokens = [token for token in tokens if token not in stopwords.words('english')]\n",
        "    return tokens\n",
        "\n",
        "  def lemmatize(self, tokens):\n",
        "    # lemmatize words\n",
        "    tokens = [WordNetLemmatizer().lemmatize(token) for token in tokens]\n",
        "    return tokens\n",
        "  \n",
        "  def get_bag_of_words(self, n_words:int):\n",
        "    \"\"\" return bag of words with n_words most frequent words. \"\"\"\n",
        "    # Tokenize\n",
        "    tokens = self.get_unique_tokens()\n",
        "    # Convert the tokens into lowercase: lower_tokens\n",
        "    tokens = self.lower_case(tokens)\n",
        "    # use only alphabet tokens\n",
        "    tokens = self.get_alphabetic_tokens(tokens)\n",
        "    # remove stopwords\n",
        "    tokens = self.remove_stopwords(tokens)\n",
        "    # lemmatize words\n",
        "    tokens = self.lemmatize(tokens)\n",
        "    # Create a Counter with the lowercase tokens: bow_simple\n",
        "    bag_of_words = Counter(tokens)\n",
        "    # return n_words most common tokens\n",
        "    return bag_of_words.most_common(n_words)"
      ]
    },
    {
      "cell_type": "code",
      "execution_count": 53,
      "metadata": {},
      "outputs": [
        {
          "data": {
            "text/plain": [
              "[('thing', 4),\n",
              " ('time', 4),\n",
              " ('u', 3),\n",
              " ('state', 3),\n",
              " ('step', 3),\n",
              " ('sound', 3),\n",
              " ('say', 3),\n",
              " ('light', 3),\n",
              " ('editor', 3),\n",
              " ('one', 3),\n",
              " ('woman', 3),\n",
              " ('office', 3),\n",
              " ('like', 3),\n",
              " ('get', 3),\n",
              " ('second', 3)]"
            ]
          },
          "execution_count": 53,
          "metadata": {},
          "output_type": "execute_result"
        }
      ],
      "source": [
        "# init bag of words class\n",
        "bow = BagOfWords(path=\"internet_archive_scifi_v3.txt\", str_length=100000)\n",
        "# get bag of words model\n",
        "bow.get_bag_of_words(15)"
      ]
    },
    {
      "cell_type": "code",
      "execution_count": 36,
      "metadata": {},
      "outputs": [
        {
          "data": {
            "text/plain": [
              "{'#',\n",
              " \"'\",\n",
              " \"'d\",\n",
              " ',',\n",
              " '.',\n",
              " ':',\n",
              " ';',\n",
              " 'A',\n",
              " 'Aiiow',\n",
              " 'All',\n",
              " 'Any',\n",
              " 'Application',\n",
              " 'Buffalo',\n",
              " 'Canada',\n",
              " 'Class',\n",
              " 'Company',\n",
              " 'Complete',\n",
              " 'Copyright',\n",
              " 'Editor',\n",
              " 'Entry',\n",
              " 'IF',\n",
              " 'Inc',\n",
              " 'Inc.',\n",
              " 'Kingston',\n",
              " 'MARCH',\n",
              " 'New',\n",
              " 'No',\n",
              " 'Office',\n",
              " 'Possessions',\n",
              " 'Post',\n",
              " 'Printed',\n",
              " 'Publisher',\n",
              " 'Publishing',\n",
              " 'Quinn',\n",
              " 'Second',\n",
              " 'Stories',\n",
              " 'Subscription',\n",
              " 'The',\n",
              " 'U.S.',\n",
              " 'Volume',\n",
              " 'We',\n",
              " 'York',\n",
              " 'a',\n",
              " 'actual',\n",
              " 'address',\n",
              " 'after',\n",
              " 'aid',\n",
              " 'and',\n",
              " 'appearing',\n",
              " 'are',\n",
              " 'as',\n",
              " 'at',\n",
              " 'be',\n",
              " 'because',\n",
              " 'bi-monthly',\n",
              " 'brevity',\n",
              " 'by',\n",
              " 'c',\n",
              " 'called',\n",
              " 'change',\n",
              " 'chat',\n",
              " 'coffee',\n",
              " 'coincidental',\n",
              " 'could',\n",
              " 'cup',\n",
              " 'deal',\n",
              " 'discarded',\n",
              " 'easy',\n",
              " 'editor',\n",
              " 'effort',\n",
              " 'elsewhere',\n",
              " 'fcopy',\n",
              " 'fiction',\n",
              " 'field',\n",
              " 'for',\n",
              " 'formation',\n",
              " 'four',\n",
              " 'gone',\n",
              " 'great',\n",
              " 'had',\n",
              " 'have',\n",
              " 'i',\n",
              " 'ia',\n",
              " 'in',\n",
              " 'indicative',\n",
              " 'into',\n",
              " 'is',\n",
              " 'issues',\n",
              " 'it',\n",
              " 'its',\n",
              " 'just',\n",
              " 'lias',\n",
              " 'magazine',\n",
              " 'matter',\n",
              " 'morning',\n",
              " 'much',\n",
              " \"n't\",\n",
              " 'of',\n",
              " 'on',\n",
              " 'pending',\n",
              " 'persons',\n",
              " 'published',\n",
              " 'remember',\n",
              " 'science',\n",
              " 'selected',\n",
              " 'several',\n",
              " 'similarity',\n",
              " 'stories',\n",
              " 'summarily',\n",
              " 'tentative',\n",
              " 'that',\n",
              " 'the',\n",
              " 'theory',\n",
              " 'this',\n",
              " 'thought',\n",
              " 'title',\n",
              " 'to',\n",
              " 'until',\n",
              " 'very',\n",
              " 'was',\n",
              " 'we',\n",
              " 'weeks',\n",
              " 'will',\n",
              " 'with'}"
            ]
          },
          "execution_count": 36,
          "metadata": {},
          "output_type": "execute_result"
        }
      ],
      "source": [
        "# init tokenizer class\n",
        "tokens = Tokenize(path=\"internet_archive_scifi_v3.txt\", str_length=1000)\n",
        "tokens.get_unique_tokens()"
      ]
    },
    {
      "cell_type": "code",
      "execution_count": null,
      "metadata": {},
      "outputs": [],
      "source": []
    }
  ],
  "metadata": {
    "kernel_info": {
      "name": "python3"
    },
    "kernelspec": {
      "display_name": "Python 3.8.5 ('azureml_py38')",
      "language": "python",
      "name": "python3"
    },
    "language_info": {
      "codemirror_mode": {
        "name": "ipython",
        "version": 3
      },
      "file_extension": ".py",
      "mimetype": "text/x-python",
      "name": "python",
      "nbconvert_exporter": "python",
      "pygments_lexer": "ipython3",
      "version": "3.8.5"
    },
    "nteract": {
      "version": "nteract-front-end@1.0.0"
    },
    "orig_nbformat": 4,
    "vscode": {
      "interpreter": {
        "hash": "6d65a8c07f5b6469e0fc613f182488c0dccce05038bbda39e5ac9075c0454d11"
      }
    }
  },
  "nbformat": 4,
  "nbformat_minor": 2
}
